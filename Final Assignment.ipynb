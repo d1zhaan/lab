{
  "nbformat": 4,
  "nbformat_minor": 0,
  "metadata": {
    "colab": {
      "name": "Untitled0.ipynb",
      "provenance": [],
      "collapsed_sections": []
    },
    "kernelspec": {
      "name": "python3",
      "display_name": "Python 3"
    },
    "language_info": {
      "name": "python"
    }
  },
  "cells": [
    {
      "cell_type": "markdown",
      "metadata": {
        "id": "ja4WvQucA_Zs"
      },
      "source": [
        "<center>\n",
        "    <img src=\"https://gitlab.com/ibm/skills-network/courses/placeholder101/-/raw/master/labs/module%201/images/IDSNlogo.png\" width=\"300\" alt=\"cognitiveclass.ai logo\"  />\n",
        "</center>"
      ]
    },
    {
      "cell_type": "markdown",
      "metadata": {
        "id": "m-o-WibvAkS4"
      },
      "source": [
        "# **IBM Statistics for Data Science with Python final assessment**\n",
        "***\n",
        "## Project Case Scenario\n",
        "Project Scenario: You are a Data Scientist with a housing agency in Boston MA, you have been given access to a previous dataset on housing prices derived from the U.S. Census Service to present insights to higher management. Based on your experience in Statistics, what information can you provide them to help with making an informed decision? Upper management will like to get some insight into the following.\n",
        "\n",
        "* Is there a significant difference in the median value of houses bounded by the Charles river or not?\n",
        "* Is there a difference in median values of houses of each proportion of owner-occupied units built before 1940?\n",
        "* Can we conclude that there is no relationship between Nitric oxide concentrations and the proportion of non-retail business acres per town?\n",
        "* What is the impact of an additional weighted distance to the five Boston employment centres on the median value of owner-occupied homes?\n",
        "\n",
        "Using the appropriate graphs and charts, generate basic statistics and visualizations that you think will be useful for the upper management to give them important insight given the question they are asking, in your graphs, include an explanation of each statistic. \n",
        "***\n",
        "## Becoming familiar with the dataset\n",
        "The following describes the dataset variables:\n",
        "\n",
        "*      CRIM - per capita crime rate by town\n",
        "\n",
        "*      ZN - proportion of residential land zoned for lots over 25,000 sq.ft.\n",
        "\n",
        "*      INDUS - proportion of non-retail business acres per town.\n",
        "\n",
        "*      CHAS - Charles River dummy variable (1 if tract bounds river; 0 otherwise)\n",
        "\n",
        "*      NOX - nitric oxides concentration (parts per 10 million)\n",
        "\n",
        "*      RM - average number of rooms per dwelling\n",
        "\n",
        "*      AGE - proportion of owner-occupied units built prior to 1940\n",
        "\n",
        "*      DIS - weighted distances to five Boston employment centres\n",
        "\n",
        "*      RAD - index of accessibility to radial highways\n",
        "\n",
        "*      TAX - full-value property-tax rate per $10,000\n",
        "\n",
        "*      PTRATIO - pupil-teacher ratio by town\n",
        "\n",
        "*      LSTAT - % lower status of the population\n",
        "\n",
        "*      MEDV - Median value of owner-occupied homes in $1000's\n",
        "***"
      ]
    },
    {
      "cell_type": "markdown",
      "metadata": {
        "id": "5PBceq0vBNaG"
      },
      "source": [
        "#Import Libraries"
      ]
    },
    {
      "cell_type": "code",
      "metadata": {
        "colab": {
          "base_uri": "https://localhost:8080/"
        },
        "id": "VTptED8oBMya",
        "outputId": "a848a785-e571-4f41-d4b5-f9ecef15a659"
      },
      "source": [
        "import scipy\n",
        "import pandas as pd\n",
        "import seaborn as sns\n",
        "import statsmodels.api as sm"
      ],
      "execution_count": 46,
      "outputs": [
        {
          "output_type": "stream",
          "name": "stderr",
          "text": [
            "/usr/local/lib/python3.7/dist-packages/statsmodels/tools/_testing.py:19: FutureWarning: pandas.util.testing is deprecated. Use the functions in the public API at pandas.testing instead.\n",
            "  import pandas.util.testing as tm\n"
          ]
        }
      ]
    },
    {
      "cell_type": "markdown",
      "metadata": {
        "id": "fU3bCH-uCIo2"
      },
      "source": [
        "Load the dataset"
      ]
    },
    {
      "cell_type": "code",
      "metadata": {
        "id": "KSnivbC1CHlF"
      },
      "source": [
        "boston_url = 'https://cf-courses-data.s3.us.cloud-object-storage.appdomain.cloud/IBMDeveloperSkillsNetwork-ST0151EN-SkillsNetwork/labs/boston_housing.csv'\n",
        "boston_df = pd.read_csv(boston_url, index_col=0)"
      ],
      "execution_count": 3,
      "outputs": []
    },
    {
      "cell_type": "markdown",
      "metadata": {
        "id": "IpRR4rTkCTr3"
      },
      "source": [
        "***\n",
        "## Generate Descriptive Statistics and Visualizations\n",
        "For all visualizations, please include a title in each graph and appropriate labels.\n",
        "\n",
        "Generate the following and explain your findings:\n",
        "* For the \"Median value of owner-occupied homes\" provide a boxplot\n",
        "* Provide a  histogram for the Charles river variable\n",
        "* Provide a boxplot for the MEDV variable vs the AGE variable. (Discretize the age variable into three groups of 35 years and younger, between 35 and 70 years and 70 years and older)\n",
        "* Provide a scatter plot to show the relationship between Nitric oxide concentrations and the proportion of non-retail business acres per town. What can you say about the relationship?\n",
        "* Create a histogram for the pupil to teacher ratio variable\n",
        "***"
      ]
    },
    {
      "cell_type": "markdown",
      "metadata": {
        "id": "26MFf8b3C1jN"
      },
      "source": [
        "For the \"Median value of owner-occupied homes\" provide a boxplot"
      ]
    },
    {
      "cell_type": "code",
      "metadata": {
        "colab": {
          "base_uri": "https://localhost:8080/",
          "height": 285
        },
        "id": "ns6l7kt9CLnz",
        "outputId": "362a19b3-45ab-4e8a-f3d6-bd37ba7064d4"
      },
      "source": [
        "ax = sns.boxplot(y=boston_df['MEDV'])\n",
        "ax.set_ylabel('Median value of owner-occupied homes')\n",
        "ax.set_title('Median value of owner-occupied homes boxplot')"
      ],
      "execution_count": 14,
      "outputs": [
        {
          "output_type": "execute_result",
          "data": {
            "text/plain": [
              "Text(0.5, 1.0, 'Median value of owner-occupied homes boxplot')"
            ]
          },
          "metadata": {},
          "execution_count": 14
        },
        {
          "output_type": "display_data",
          "data": {
            "image/png": "[encoded data removed]",
            "text/plain": [
              "<Figure size 432x288 with 1 Axes>"
            ]
          },
          "metadata": {
            "needs_background": "light"
          }
        }
      ]
    },
    {
      "cell_type": "markdown",
      "metadata": {
        "id": "XZoYQQ62DPI1"
      },
      "source": [
        "Provide a histogram for the Charles river variable"
      ]
    },
    {
      "cell_type": "code",
      "metadata": {
        "colab": {
          "base_uri": "https://localhost:8080/",
          "height": 312
        },
        "id": "GY3kFsjdDLpS",
        "outputId": "548b426a-bd1a-4748-d7b0-c31d07a9ec69"
      },
      "source": [
        "ax = sns.histplot(boston_df['CHAS'])\n",
        "ax.set_xlabel('Charles River dummy variable (1 if tract bounds river; 0 otherwise)')\n",
        "ax.set_title('Histogram for the Charles river variable')"
      ],
      "execution_count": 19,
      "outputs": [
        {
          "output_type": "execute_result",
          "data": {
            "text/plain": [
              "Text(0.5, 1.0, 'Histogram for the Charles river variable')"
            ]
          },
          "metadata": {},
          "execution_count": 19
        },
        {
          "output_type": "display_data",
          "data": {
            "image/png": "[encoded data removed]",
            "text/plain": [
              "<Figure size 432x288 with 1 Axes>"
            ]
          },
          "metadata": {
            "needs_background": "light"
          }
        }
      ]
    },
    {
      "cell_type": "markdown",
      "metadata": {
        "id": "GAMBYC_EDNuX"
      },
      "source": [
        "Provide a boxplot for the MEDV variable vs the AGE variable. (Discretize the age variable into three groups of 35 years and younger, between 35 and 70 years and 70 years and older)"
      ]
    },
    {
      "cell_type": "code",
      "metadata": {
        "colab": {
          "base_uri": "https://localhost:8080/",
          "height": 312
        },
        "id": "ld0WMzT_EFWY",
        "outputId": "67e14462-9219-4cc5-9b5e-202ad86746f2"
      },
      "source": [
        "boston_df.loc[(boston_df['AGE'] <= 35), 'age_group'] = '35 years and younger'\n",
        "boston_df.loc[(boston_df['AGE'] > 35)&(boston_df['AGE'] < 70), 'age_group'] = 'between 35 and 70 years'\n",
        "boston_df.loc[(boston_df['AGE'] >= 70), 'age_group'] = '70 years and older'\n",
        "\n",
        "ax = sns.boxplot(x='age_group', y='MEDV', data=boston_df)\n",
        "ax.set_ylabel('Median value of owner-occupied homes')\n",
        "ax.set_title('Median value of owner-occupied homes boxplot with age groups')"
      ],
      "execution_count": 22,
      "outputs": [
        {
          "output_type": "execute_result",
          "data": {
            "text/plain": [
              "Text(0.5, 1.0, 'Median value of owner-occupied homes boxplot with age groups')"
            ]
          },
          "metadata": {},
          "execution_count": 22
        },
        {
          "output_type": "display_data",
          "data": {
            "image/png": "[encoded data removed]",
            "text/plain": [
              "<Figure size 432x288 with 1 Axes>"
            ]
          },
          "metadata": {
            "needs_background": "light"
          }
        }
      ]
    },
    {
      "cell_type": "markdown",
      "metadata": {
        "id": "lg75XGcaEVTU"
      },
      "source": [
        "Provide a scatter plot to show the relationship between Nitric oxide concentrations and the proportion of non-retail business acres per town. What can you say about the relationship?"
      ]
    },
    {
      "cell_type": "code",
      "metadata": {
        "colab": {
          "base_uri": "https://localhost:8080/",
          "height": 296
        },
        "id": "NxPBo39JEUsm",
        "outputId": "a91bfcbb-67ba-4a78-d0ab-84971d7e43ac"
      },
      "source": [
        "sns.scatterplot(x='INDUS', y='NOX', data=boston_df)\n",
        "ax.set_xlabel('Proportion of non-retail business acres per town')\n",
        "ax.set_ylabel('Nitric oxides concentration (parts per 10 million)')\n",
        "ax.set_title('Relationship between Nitric oxide concentrations and the proportion of non-retail business acres per town')\n",
        "# The plot shows a positive relationship. When the INDUS increases, NOX tends to increase as well."
      ],
      "execution_count": 24,
      "outputs": [
        {
          "output_type": "execute_result",
          "data": {
            "text/plain": [
              "Text(0.5, 1.0, 'Relationship between Nitric oxide concentrations and the proportion of non-retail business acres per town')"
            ]
          },
          "metadata": {},
          "execution_count": 24
        },
        {
          "output_type": "display_data",
          "data": {
            "image/png": "[encoded data removed]",
            "text/plain": [
              "<Figure size 432x288 with 1 Axes>"
            ]
          },
          "metadata": {
            "needs_background": "light"
          }
        }
      ]
    },
    {
      "cell_type": "markdown",
      "metadata": {
        "id": "zWR9p-MmEt9X"
      },
      "source": [
        "Create a histogram for the pupil to teacher ratio variable"
      ]
    },
    {
      "cell_type": "code",
      "metadata": {
        "colab": {
          "base_uri": "https://localhost:8080/",
          "height": 402
        },
        "id": "URs1STvyEtYT",
        "outputId": "5c848446-f828-4a57-fe8f-4361a425fb5d"
      },
      "source": [
        "fg = sns.displot(boston_df['PTRATIO'])\n",
        "fg.axes[0,0].set_xlabel('Pupil to teacher ratio')\n",
        "fg.axes[0,0].set_title('Histogram for the pupil to teacher ratio variable')"
      ],
      "execution_count": 29,
      "outputs": [
        {
          "output_type": "execute_result",
          "data": {
            "text/plain": [
              "Text(0.5, 1.0, 'Histogram for the pupil to teacher ratio variable')"
            ]
          },
          "metadata": {},
          "execution_count": 29
        },
        {
          "output_type": "display_data",
          "data": {
            "image/png": "[encoded data removed]",
            "text/plain": [
              "<Figure size 360x360 with 1 Axes>"
            ]
          },
          "metadata": {
            "needs_background": "light"
          }
        }
      ]
    },
    {
      "cell_type": "markdown",
      "metadata": {
        "id": "arjUL4S8FMMl"
      },
      "source": [
        "***\n",
        "## Use the appropriate tests to answer the questions provided.\n",
        "For each of the following questions;\n",
        "\n",
        "* Is there a significant difference in median value of houses bounded by the Charles river or not? (T-test for independent samples)\n",
        "* Is there a difference in Median values of houses (MEDV) for each proportion of owner occupied units built prior to 1940 (AGE)? (ANOVA)\n",
        "* Can we conclude that there is no relationship between Nitric oxide concentrations and proportion of non-retail business acres per town? (Pearson Correlation)\n",
        "* What is the impact of an additional weighted distance  to the five Boston employment centres on the median value of owner occupied homes? (Regression analysis)\n",
        "\n",
        "Be sure to:\n",
        "1. State your hypothesis.\n",
        "2. Use α = 0.05\n",
        "3. Perform the test Statistics.\n",
        "4. State the conclusion from the test.\n",
        "***"
      ]
    },
    {
      "cell_type": "code",
      "metadata": {
        "id": "lBz0wMpnFy0S"
      },
      "source": [
        "alpha = 0.05"
      ],
      "execution_count": 30,
      "outputs": []
    },
    {
      "cell_type": "markdown",
      "metadata": {
        "id": "e1E99YfuFtrJ"
      },
      "source": [
        "Is there a significant difference in median value of houses bounded by the Charles river or not? (T-test for independent samples)\n",
        "\n",
        "State the hypothesis:\n",
        "*   $H\\_0: µ\\_1 = µ\\_2$ The two population means are equal\n",
        "*   $H\\_1:$ At least one of the means differ"
      ]
    },
    {
      "cell_type": "code",
      "metadata": {
        "colab": {
          "base_uri": "https://localhost:8080/"
        },
        "id": "XU--2We4FtDg",
        "outputId": "a61853b9-4a7e-45d2-d4d5-0fdf8d41ab22"
      },
      "source": [
        "# Test if there is an equality of variance\n",
        "levene = scipy.stats.levene(boston_df[boston_df['CHAS'] == 1]['MEDV'],\n",
        "                           boston_df[boston_df['CHAS'] == 0]['MEDV'], \n",
        "                           center='mean')\n",
        "\n",
        "# We automate the hypothesis testing. For this test, we receive a p-value of 0.003. \n",
        "# This value is lower than the significance level. Therefore, we reject the null hypothesis that the two variables have equal variances.\n",
        "equality_of_variance = True if levene[1] > alpha else False\n",
        "print(f'Can we assume equal variance? {equality_of_variance}. p-value: {levene[1]}')\n",
        "\n",
        "# Perform the T-test for independent samples\n",
        "Ttest_indResult = scipy.stats.ttest_ind(boston_df[boston_df['CHAS'] == 1]['MEDV'],\n",
        "                   boston_df[boston_df['CHAS'] == 0]['MEDV'], equal_var = equality_of_variance)\n",
        "\n",
        "print(f'T-statistic: {Ttest_indResult[0]}. p-value: {Ttest_indResult[1]}')"
      ],
      "execution_count": 37,
      "outputs": [
        {
          "output_type": "stream",
          "name": "stdout",
          "text": [
            "Can we assume equal variance? False. p-value: 0.003238119367639829\n",
            "T-statistic: 3.113291312794837. p-value: 0.003567170098137517\n"
          ]
        }
      ]
    },
    {
      "cell_type": "markdown",
      "metadata": {
        "id": "X1EkcsIiHDlE"
      },
      "source": [
        "**Conclusion:** The p-value (0.004) is lower than the significance level. Therefore, we will reject the null hypothesis as there is a significant difference between the house prices by the Charles river or not.\n",
        "***"
      ]
    },
    {
      "cell_type": "markdown",
      "metadata": {
        "id": "XeIDyFKXH_CA"
      },
      "source": [
        "Is there a difference in Median values of houses (MEDV) for each proportion of owner occupied units built prior to 1940 (AGE)? (ANOVA)\n",
        "\n",
        "State the hypothesis:\n",
        "\n",
        "*   $H\\_0: µ\\_1 = µ\\_2 = µ\\_3$ (the three population means are equal)\n",
        "*   $H\\_1:$ At least one of the means differ"
      ]
    },
    {
      "cell_type": "code",
      "metadata": {
        "colab": {
          "base_uri": "https://localhost:8080/"
        },
        "id": "qDhJWbe3IIbd",
        "outputId": "20c62fac-fd8f-4535-fc2c-c66487a0fc4e"
      },
      "source": [
        "thirtyfive_younger = boston_df[boston_df['age_group'] == '35 years and younger']['MEDV']\n",
        "thirtyfive_seventy = boston_df[boston_df['age_group'] == 'between 35 and 70 years']['MEDV']\n",
        "seventy_older = boston_df[boston_df['age_group'] == '70 years and older']['MEDV']\n",
        "\n",
        "# Test if there is an equality of variance\n",
        "levene = scipy.stats.levene(thirtyfive_younger, \n",
        "                            thirtyfive_seventy,\n",
        "                            seventy_older,                   \n",
        "                            center='mean')\n",
        "\n",
        "# We automate the hypothesis testing. For this test, we receive a p-value of 0.06. \n",
        "# This value is higher than the significance level. Therefore, we fail to reject the null hypothesis that the two variables have equal variances.\n",
        "equality_of_variance = True if levene[1] > alpha else False\n",
        "print(f'Can we assume equal variance? {equality_of_variance}. p-value: {levene[1]}')\n",
        "\n",
        "f_statistic, p_value = scipy.stats.f_oneway(thirtyfive_younger, \n",
        "                                            thirtyfive_seventy, \n",
        "                                            seventy_older)\n",
        "print(\"F_Statistic: {0}, P-Value: {1}\".format(f_statistic,p_value))\n"
      ],
      "execution_count": 43,
      "outputs": [
        {
          "output_type": "stream",
          "name": "stdout",
          "text": [
            "Can we assume equal variance? True. p-value: 0.06295337343259205\n",
            "F_Statistic: 36.40764999196599, P-Value: 1.7105011022702984e-15\n"
          ]
        }
      ]
    },
    {
      "cell_type": "markdown",
      "metadata": {
        "id": "cQT42ZsPKZek"
      },
      "source": [
        "**Conclusion:** Since the p-value is less than 0.05, we will reject the null hypothesis as there is significant evidence that at least one of the means differ.\n",
        "***"
      ]
    },
    {
      "cell_type": "markdown",
      "metadata": {
        "id": "HS16Ho5tKdBO"
      },
      "source": [
        "Can we conclude that there is no relationship between Nitric oxide concentrations and proportion of non-retail business acres per town? (Pearson Correlation)\n",
        "\n",
        "State the hypothesis:\n",
        "\n",
        "*   $H\\_0:$ Nitric oxide concentrations is not correlated with proportion of non-retail business acres per town\n",
        "*   $H\\_1:$ Nitric oxide concentrations is correlated with proportion of non-retail business acres per town\n",
        "\n",
        "\n",
        "Since they are both continuous variables we can use a pearson correlation test and draw a scatter plot. We already have performed this task above. There, we noticed an upward trend."
      ]
    },
    {
      "cell_type": "code",
      "metadata": {
        "colab": {
          "base_uri": "https://localhost:8080/"
        },
        "id": "v4tVrKv0KjBm",
        "outputId": "309840ad-0104-4d08-b9af-0481dc5d11b0"
      },
      "source": [
        "r_2, p_value = scipy.stats.pearsonr(boston_df['NOX'], boston_df['INDUS'])\n",
        "print(f'R-squared: {r_2}. p-value: {p_value}')"
      ],
      "execution_count": 45,
      "outputs": [
        {
          "output_type": "stream",
          "name": "stdout",
          "text": [
            "R-squared: 0.7636514469209154. p-value: 7.913361061236894e-98\n"
          ]
        }
      ]
    },
    {
      "cell_type": "markdown",
      "metadata": {
        "id": "HO_TZg2YK3Jd"
      },
      "source": [
        "**Conclusion:** Since the p-value  (Sig. (2-tailed)  < 0.05, we reject  the Null hypothesis and conclude that there  exists a relationship between  beauty and teaching evaluation score.\n",
        "***"
      ]
    },
    {
      "cell_type": "markdown",
      "metadata": {
        "id": "qfSj3P7cKhQm"
      },
      "source": [
        "What is the impact of an additional weighted distance  to the five Boston employment centres on the median value of owner occupied homes? (Regression analysis)\n",
        "\n",
        "State the hypothesis:\n",
        "\n",
        "*   $H\\_0:$ The weighted distance  to the five Boston employment centres is independent of median value of owner occupied homes\n",
        "*   $H\\_1:$ The weighted distance  to the five Boston employment centres is associated with median value of owner occupied homes"
      ]
    },
    {
      "cell_type": "code",
      "metadata": {
        "colab": {
          "base_uri": "https://localhost:8080/",
          "height": 444
        },
        "id": "czQgmGPnL4QN",
        "outputId": "41a6b3c0-3c4d-4f0b-da4a-9e184752ea37"
      },
      "source": [
        "## X is the input variables (or independent variables)\n",
        "X = boston_df['DIS']\n",
        "## y is the target/dependent variable\n",
        "y = boston_df['MEDV']\n",
        "## add an intercept (beta_0) to our model\n",
        "X = sm.add_constant(X) \n",
        "\n",
        "model = sm.OLS(y, X).fit()\n",
        "predictions = model.predict(X)\n",
        "\n",
        "# Print out the statistics\n",
        "model.summary()"
      ],
      "execution_count": 51,
      "outputs": [
        {
          "output_type": "execute_result",
          "data": {
            "text/html": [
              "<table class=\"simpletable\">\n",
              "<caption>OLS Regression Results</caption>\n",
              "<tr>\n",
              "  <th>Dep. Variable:</th>          <td>MEDV</td>       <th>  R-squared:         </th> <td>   0.062</td>\n",
              "</tr>\n",
              "<tr>\n",
              "  <th>Model:</th>                   <td>OLS</td>       <th>  Adj. R-squared:    </th> <td>   0.061</td>\n",
              "</tr>\n",
              "<tr>\n",
              "  <th>Method:</th>             <td>Least Squares</td>  <th>  F-statistic:       </th> <td>   33.58</td>\n",
              "</tr>\n",
              "<tr>\n",
              "  <th>Date:</th>             <td>Thu, 18 Nov 2021</td> <th>  Prob (F-statistic):</th> <td>1.21e-08</td>\n",
              "</tr>\n",
              "<tr>\n",
              "  <th>Time:</th>                 <td>13:17:59</td>     <th>  Log-Likelihood:    </th> <td> -1823.9</td>\n",
              "</tr>\n",
              "<tr>\n",
              "  <th>No. Observations:</th>      <td>   506</td>      <th>  AIC:               </th> <td>   3652.</td>\n",
              "</tr>\n",
              "<tr>\n",
              "  <th>Df Residuals:</th>          <td>   504</td>      <th>  BIC:               </th> <td>   3660.</td>\n",
              "</tr>\n",
              "<tr>\n",
              "  <th>Df Model:</th>              <td>     1</td>      <th>                     </th>     <td> </td>   \n",
              "</tr>\n",
              "<tr>\n",
              "  <th>Covariance Type:</th>      <td>nonrobust</td>    <th>                     </th>     <td> </td>   \n",
              "</tr>\n",
              "</table>\n",
              "<table class=\"simpletable\">\n",
              "<tr>\n",
              "    <td></td>       <th>coef</th>     <th>std err</th>      <th>t</th>      <th>P>|t|</th>  <th>[0.025</th>    <th>0.975]</th>  \n",
              "</tr>\n",
              "<tr>\n",
              "  <th>const</th> <td>   18.3901</td> <td>    0.817</td> <td>   22.499</td> <td> 0.000</td> <td>   16.784</td> <td>   19.996</td>\n",
              "</tr>\n",
              "<tr>\n",
              "  <th>DIS</th>   <td>    1.0916</td> <td>    0.188</td> <td>    5.795</td> <td> 0.000</td> <td>    0.722</td> <td>    1.462</td>\n",
              "</tr>\n",
              "</table>\n",
              "<table class=\"simpletable\">\n",
              "<tr>\n",
              "  <th>Omnibus:</th>       <td>139.779</td> <th>  Durbin-Watson:     </th> <td>   0.570</td>\n",
              "</tr>\n",
              "<tr>\n",
              "  <th>Prob(Omnibus):</th> <td> 0.000</td>  <th>  Jarque-Bera (JB):  </th> <td> 305.104</td>\n",
              "</tr>\n",
              "<tr>\n",
              "  <th>Skew:</th>          <td> 1.466</td>  <th>  Prob(JB):          </th> <td>5.59e-67</td>\n",
              "</tr>\n",
              "<tr>\n",
              "  <th>Kurtosis:</th>      <td> 5.424</td>  <th>  Cond. No.          </th> <td>    9.32</td>\n",
              "</tr>\n",
              "</table><br/><br/>Warnings:<br/>[1] Standard Errors assume that the covariance matrix of the errors is correctly specified."
            ],
            "text/plain": [
              "<class 'statsmodels.iolib.summary.Summary'>\n",
              "\"\"\"\n",
              "                            OLS Regression Results                            \n",
              "==============================================================================\n",
              "Dep. Variable:                   MEDV   R-squared:                       0.062\n",
              "Model:                            OLS   Adj. R-squared:                  0.061\n",
              "Method:                 Least Squares   F-statistic:                     33.58\n",
              "Date:                Thu, 18 Nov 2021   Prob (F-statistic):           1.21e-08\n",
              "Time:                        13:17:59   Log-Likelihood:                -1823.9\n",
              "No. Observations:                 506   AIC:                             3652.\n",
              "Df Residuals:                     504   BIC:                             3660.\n",
              "Df Model:                           1                                         \n",
              "Covariance Type:            nonrobust                                         \n",
              "==============================================================================\n",
              "                 coef    std err          t      P>|t|      [0.025      0.975]\n",
              "------------------------------------------------------------------------------\n",
              "const         18.3901      0.817     22.499      0.000      16.784      19.996\n",
              "DIS            1.0916      0.188      5.795      0.000       0.722       1.462\n",
              "==============================================================================\n",
              "Omnibus:                      139.779   Durbin-Watson:                   0.570\n",
              "Prob(Omnibus):                  0.000   Jarque-Bera (JB):              305.104\n",
              "Skew:                           1.466   Prob(JB):                     5.59e-67\n",
              "Kurtosis:                       5.424   Cond. No.                         9.32\n",
              "==============================================================================\n",
              "\n",
              "Warnings:\n",
              "[1] Standard Errors assume that the covariance matrix of the errors is correctly specified.\n",
              "\"\"\""
            ]
          },
          "metadata": {},
          "execution_count": 51
        }
      ]
    },
    {
      "cell_type": "markdown",
      "metadata": {
        "id": "1VpNGIQoPOPf"
      },
      "source": [
        "**Conclusion:** p < 0.05 there is evidence of correlation between weighted distance to the five Boston employment centres and median value of owner occupied homes. The relation is slightly positive, as the R-squared value is 0.062."
      ]
    }
  ]
}